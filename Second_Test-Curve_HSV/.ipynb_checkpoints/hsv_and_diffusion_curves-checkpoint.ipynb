{
 "cells": [
  {
   "cell_type": "code",
   "execution_count": 1,
   "id": "26314cbe",
   "metadata": {},
   "outputs": [],
   "source": [
    "#Libraries - all required except plt (just for checking and visualization) and mp (for viewing final model)\n",
    "import matplotlib.pyplot as plt\n",
    "import numpy as np\n",
    "import triangle as tr\n",
    "import meshio\n",
    "import meshplot as mp\n",
    "import json\n",
    "import subprocess\n",
    "import colorsys"
   ]
  },
  {
   "cell_type": "code",
   "execution_count": 2,
   "id": "88815f56",
   "metadata": {
    "scrolled": true
   },
   "outputs": [
    {
     "data": {
      "image/png": "[encoded data removed]",
      "text/plain": [
       "<Figure size 600x300 with 2 Axes>"
      ]
     },
     "metadata": {},
     "output_type": "display_data"
    }
   ],
   "source": [
    "#Forming the object (manually)\n",
    "pts0 = np.array(((0, 0), (10, 0), (10, 10), (0, 10))) #border\n",
    "pts1 = np.array(((3, 7), (2, 6), (2.5, 4), (4.5, 3), (6.5, 4), (8, 5), (7.5, 7), (6, 7.5), (5, 7), (4, 6), (4, 5), (5, 4), (6.5, 5), (6.5, 5.5), (5.5, 5), (5, 5.5), (5.5, 6.5), (6, 6)))\n",
    "\n",
    "pts = np.vstack([pts0, pts1]) #combined\n",
    "\n",
    "#connecting points together (manually)\n",
    "seg1 = np.array(((0, 1), (1, 2), (2, 3), (3, 0)))\n",
    "seg2 = []\n",
    "for i in range(4, len(pts1) + 3):\n",
    "    seg2.append((i, i+1))\n",
    "seg2 = np.array(seg2)\n",
    "seg_comb = [seg1, seg2]\n",
    "seg0 = np.vstack(seg_comb)\n",
    "\n",
    "#indicies where segment meets up with beginning of shape--needed for random colour generation, but not manual\n",
    "loop_backs = [3]\n",
    "#indicies where segments are isolated\n",
    "iso_segs = [20]\n",
    "\n",
    "#form mesh\n",
    "A = dict(vertices=pts, segments=seg0)\n",
    "meshObj = tr.triangulate(A, 'qpa0.06')\n",
    "tr.compare(plt, A, meshObj)"
   ]
  },
  {
   "cell_type": "code",
   "execution_count": 3,
   "id": "f4f76da6",
   "metadata": {},
   "outputs": [],
   "source": [
    "#Helper function for solve() - determines if a float is between two other floats\n",
    "def is_between(num, n1, n2):\n",
    "    if (num <= n1 and num >= n2) or (num >= n1 and num <= n2):\n",
    "        return True\n",
    "    else:\n",
    "        return False\n",
    "\n",
    "    \n",
    "#function that determines if a point is between two other points on the same line\n",
    "def solve(coordinates) -> bool:\n",
    "    (x0, y0), (x2, y2) = coordinates[0], coordinates[2]\n",
    "    x1, y1 = coordinates[1]\n",
    "    if (abs((x0 - x2) * (y2 - y1) - (x2 - x1) * (y0 - y2)) < 0.001) and (is_between(x1, x0, x2) and is_between(y1, y0, y2)):\n",
    "        return True\n",
    "    else:\n",
    "        return False\n",
    "\n",
    "# #function that determines if a point is kinda between two other points on the same line\n",
    "# def solve_loose(coordinates) -> bool:\n",
    "#     (pointx, pointy), (tocheckx, tochecky) = coordinates[0], coordinates[1]\n",
    "#     if abs(pointx - tocheckx) < 0.4 and abs(pointy - tochecky) < 0.4:\n",
    "#         return True\n",
    "#     else:\n",
    "#         return False"
   ]
  },
  {
   "cell_type": "code",
   "execution_count": 4,
   "id": "ce32dcd5",
   "metadata": {
    "scrolled": true
   },
   "outputs": [],
   "source": [
    "#Plot ONLY points that are on a segment line\n",
    "v = meshObj['vertices']\n",
    "\n",
    "#create list of segments \n",
    "segment_lines = []\n",
    "for line in seg0:\n",
    "    segment_lines.append([v[line[0]], v[line[1]]])\n",
    "\n",
    "all_dots_indexed = {}\n",
    "\n",
    "red_dots = pts.tolist()\n",
    "for d_i in range(len(red_dots)):\n",
    "    all_dots_indexed[d_i] = red_dots[d_i]\n",
    "\n",
    "green_dots = []\n",
    "green_dots_seg_indexed = {}\n",
    "for p_i in range(len(v)):\n",
    "    if v[p_i].tolist() not in red_dots:\n",
    "        for l_i in range(len(seg0)):\n",
    "            if solve([v[seg0[l_i][0]], v[p_i], v[seg0[l_i][1]]]):\n",
    "                green_dots.append(v[p_i].tolist())\n",
    "                all_dots_indexed[p_i] = v[p_i]\n",
    "                if l_i in green_dots_seg_indexed:\n",
    "                    green_dots_seg_indexed[l_i].append((v[p_i][0], v[p_i][1]))\n",
    "                else:\n",
    "                    green_dots_seg_indexed[l_i] = [(v[p_i][0], v[p_i][1])]            \n",
    "\n",
    "# green_dots_loose = {}\n",
    "# for p_i in range(len(v)):\n",
    "#     if v[p_i].tolist() not in red_dots and v[p_i].tolist() not in green_dots:\n",
    "#         for seg in green_dots_seg_indexed:\n",
    "#             for point_d in green_dots_seg_indexed[seg]:\n",
    "#                 point = (point_d[0], point_d[1])\n",
    "#                 if point[0] != 10.0 and point[0] != 0.0 and point[1] != 10.0 and point[1] != 0.0 and (solve_loose([point, v[p_i]])):\n",
    "#                     if seg in green_dots_loose:\n",
    "#                         green_dots_loose[seg].append([v[p_i][0], v[p_i][1], p_i])\n",
    "#                     else:\n",
    "#                         green_dots_loose[seg] = [[v[p_i][0], v[p_i][1], p_i]]\n",
    "\n",
    "all_dots = []\n",
    "all_dots += red_dots\n",
    "all_dots += green_dots"
   ]
  },
  {
   "cell_type": "code",
   "execution_count": 5,
   "id": "a928a86f",
   "metadata": {},
   "outputs": [],
   "source": [
    "# def is_left(P0, P1, Pc):\n",
    "#     res = (P1[0] - P0[0]) * (Pc[1] - P0[1]) - (Pc[0] - P0[0]) * (P1[1] - P0[1])\n",
    "#     if res > 0:\n",
    "#         return True\n",
    "#     else:\n",
    "#         return False\n",
    "\n",
    "# def what_side(seg, point):\n",
    "#     seg_pt_1 = v[seg0[seg][0]]\n",
    "#     seg_pt_2 = v[seg0[seg][1]]\n",
    "#     res = is_left(seg_pt_1, seg_pt_2, point)\n",
    "    \n",
    "#     return res"
   ]
  },
  {
   "cell_type": "code",
   "execution_count": 6,
   "id": "fad43fa5",
   "metadata": {
    "scrolled": true
   },
   "outputs": [
    {
     "data": {
      "text/plain": [
       "[<matplotlib.lines.Line2D at 0x1e5b02bf760>]"
      ]
     },
     "execution_count": 6,
     "metadata": {},
     "output_type": "execute_result"
    },
    {
     "data": {
      "image/png": "[encoded data removed]",
      "text/plain": [
       "<Figure size 640x480 with 1 Axes>"
      ]
     },
     "metadata": {},
     "output_type": "display_data"
    }
   ],
   "source": [
    "# gdr = []\n",
    "# gdl = {}\n",
    "\n",
    "# for seg in green_dots_loose:\n",
    "#     for point in green_dots_loose[seg]:\n",
    "#         if not what_side(seg, [point[0], point[1]]) and point not in gdr:\n",
    "#             gdr.append(point)\n",
    "#             if seg in gdl:\n",
    "#                 gdl[seg].append([point[0], point[1]])\n",
    "#             else:\n",
    "#                 gdl[seg] = [[point[0], point[1]]]\n",
    "\n",
    "# #FOR VIEWING TANGENTS to make sure it works (it works, I'm a fukkin genius)\n",
    "gx = []\n",
    "gy = []\n",
    "for dot in green_dots:\n",
    "    gx.append(dot[0])\n",
    "    gy.append(dot[1])\n",
    "    \n",
    "rx = []\n",
    "ry = []\n",
    "for dot in red_dots:\n",
    "    rx.append(dot[0])\n",
    "    ry.append(dot[1])\n",
    "\n",
    "# lx1 = []\n",
    "# ly1 = []\n",
    "# for dot in gdr:\n",
    "#     lx1.append(dot[0])\n",
    "#     ly1.append(dot[1])\n",
    "\n",
    "plt.plot(gx, gy, '*', c=(0,1,0))\n",
    "plt.plot(rx, ry, 'o', c=(1,0,0))\n",
    "#plt.plot(lx1, ly1, '.', c=(0,0,0))"
   ]
  },
  {
   "cell_type": "code",
   "execution_count": 7,
   "id": "6c3d7de6",
   "metadata": {},
   "outputs": [],
   "source": [
    "# for point in gdr:\n",
    "#     all_dots.append([point[0], point[1]])\n",
    "#     all_dots_indexed[point[2]] = [point[0], point[1]]"
   ]
  },
  {
   "cell_type": "code",
   "execution_count": 8,
   "id": "d480dff6",
   "metadata": {
    "scrolled": true
   },
   "outputs": [],
   "source": [
    "# seg_green_right = {}\n",
    "\n",
    "# for p_i in range(len(all_dots) - len(gdr), len(all_dots)):\n",
    "#     point = all_dots[p_i]\n",
    "#     for seg in gdl:\n",
    "#         if point in gdl[seg]:\n",
    "#             if seg in seg_green_right:\n",
    "#                 seg_green_right[seg].append([point[0], point[1], p_i])\n",
    "#             else:\n",
    "#                 seg_green_right[seg] = [[point[0], point[1], p_i]]"
   ]
  },
  {
   "cell_type": "code",
   "execution_count": 9,
   "id": "330a6032",
   "metadata": {},
   "outputs": [],
   "source": [
    "#Create dictionary where:\n",
    "#key = corresponding segment index in segment_lines, value = list of triangle-generated points on that line\n",
    "seg_green_left = {}\n",
    "\n",
    "for line_index in range(len(segment_lines)):\n",
    "    for p_i in range(len(green_dots)):\n",
    "        if solve([segment_lines[line_index][0], green_dots[p_i], segment_lines[line_index][1]]):\n",
    "            if line_index in seg_green_left:\n",
    "                seg_green_left[line_index].append((green_dots[p_i][0], green_dots[p_i][1], p_i + len(red_dots)))\n",
    "            else:\n",
    "                seg_green_left[line_index] = [(green_dots[p_i][0], green_dots[p_i][1], p_i + len(red_dots))]"
   ]
  },
  {
   "cell_type": "code",
   "execution_count": 10,
   "id": "91b395ab",
   "metadata": {},
   "outputs": [],
   "source": [
    "rgb_segs_left = []\n",
    "#rgb_segs_right = []\n",
    "                \n",
    "#Generate RANDOM rgb values for manually plotted points\n",
    "def random_colours(rgb_segs, seg_start):\n",
    "    random_colour1 = np.random.randint(2), np.random.randint(2), np.random.randint(2)\n",
    "    while random_colour1 == (0, 0, 0) or random_colour1 == (1, 1, 1):\n",
    "        random_colour1 = np.random.randint(2), np.random.randint(2), np.random.randint(2)\n",
    "    random_colour2 = np.random.randint(2), np.random.randint(2), np.random.randint(2)\n",
    "    while random_colour2 == (0, 0, 0) or random_colour2 == (1, 1, 1):\n",
    "        random_colour2 = np.random.randint(2), np.random.randint(2), np.random.randint(2)\n",
    "    segm = [(segment_lines[seg_start][0][0], segment_lines[seg_start][0][1]), (segment_lines[seg_start][1][0], segment_lines[seg_start][1][1])]\n",
    "    rgb_segs.append({\"segment\": segm, \"colours\": [random_colour1, random_colour2]})\n",
    "\n",
    "    for segment_index in range(seg_start+1, len(segment_lines)):\n",
    "        random_colour = np.random.randint(2), np.random.randint(2), np.random.randint(2)\n",
    "        while random_colour == (0, 0, 0) or random_colour == (1, 1, 1):\n",
    "            random_colour = np.random.randint(2), np.random.randint(2), np.random.randint(2)\n",
    "        segm = [(segment_lines[segment_index][0][0], segment_lines[segment_index][0][1]), (segment_lines[segment_index][1][0], segment_lines[segment_index][1][1])]\n",
    "        rgb_segs.append({\"segment\": segm, \"colours\": [rgb_segs[segment_index - (seg_start + 1)][\"colours\"][1], random_colour]})\n",
    "    \n",
    "    if len(loop_backs) > 0:\n",
    "        i = 0\n",
    "        while i < len(loop_backs) and loop_backs[i] < seg_start:\n",
    "            i += 1\n",
    "        if i < len(loop_backs):\n",
    "            rgb_segs[loop_backs[0]]['colours'][1] = rgb_segs[0]['colours'][0]\n",
    "            for loop_num_i in range(1, len(loop_backs)):\n",
    "                rgb_segs[loop_backs[loop_num_i]]['colours'][1] = rgb_segs[loop_backs[loop_num_i - 1]+1]['colours'][0]\n",
    "\n",
    "#Generate MANUALLY PLOTTED rgb values for manually plotted points\n",
    "def fixed_colours(rgb_segs, cols, seg_start):    \n",
    "    segm = [(segment_lines[seg_start][0][0], segment_lines[seg_start][0][1]), (segment_lines[seg_start][1][0], segment_lines[seg_start][1][1])]\n",
    "    rgb_segs.append({\"segment\": segm, \"colours\": [cols[0], cols[1]]})\n",
    "\n",
    "    for i in range(seg_start + 1, len(segment_lines)):\n",
    "        segm = [(segment_lines[i][0][0], segment_lines[i][0][1]), (segment_lines[i][1][0], segment_lines[i][1][1])]\n",
    "        rgb_segs.append({\"segment\": segm, \"colours\": [cols[i - (seg_start+1)], cols[i - seg_start]]})\n",
    "        \n",
    "    rgb_segs[loop_backs[0]]['colours'][1] = rgb_segs[0]['colours'][0]\n",
    "    for loop_num_i in range(1, len(loop_backs)):\n",
    "        rgb_segs[loop_backs[loop_num_i]]['colours'][1] = rgb_segs[loop_backs[loop_num_i - 1]+1]['colours'][0]"
   ]
  },
  {
   "cell_type": "code",
   "execution_count": 11,
   "id": "3555c0d1",
   "metadata": {},
   "outputs": [],
   "source": [
    "random_colours(rgb_segs_left, 0)\n",
    "# random_colours(rgb_segs_right, 4)"
   ]
  },
  {
   "cell_type": "code",
   "execution_count": 12,
   "id": "3613290f",
   "metadata": {},
   "outputs": [],
   "source": [
    "# left_list = [(0.0, 1.0, 0.0), (0.0, 0.0, 1.0), (0.0, 1.0, 0.0)]\n",
    "# for i in range(3, 22):\n",
    "#     left_list.append((1.0, 0.0, 1.0))\n",
    "# fixed_colours(rgb_segs_left, left_list, 0)\n",
    "\n",
    "# right_list = []\n",
    "# for i in range(4, 22):\n",
    "#     right_list.append((0.0, 1.0, 1.0))\n",
    "# fixed_colours(rgb_segs_right, right_list, 4)"
   ]
  },
  {
   "cell_type": "code",
   "execution_count": 13,
   "id": "3bc62ea6",
   "metadata": {},
   "outputs": [],
   "source": [
    "#Convert to desired colourspace\n",
    "isHsv = False\n",
    "def hsv_interpolation(rgb_segs):\n",
    "    global isHsv\n",
    "    isHsv = True\n",
    "    for seg in rgb_segs:\n",
    "        col1 = seg['colours'][0]\n",
    "        col2 = seg['colours'][1]\n",
    "        seg['colours'] = []\n",
    "        seg['colours'].append(colorsys.rgb_to_hsv(col1[0], col1[1], col1[2]))\n",
    "        seg['colours'].append(colorsys.rgb_to_hsv(col2[0], col2[1], col2[2]))"
   ]
  },
  {
   "cell_type": "code",
   "execution_count": 14,
   "id": "fb4f06c4",
   "metadata": {},
   "outputs": [],
   "source": [
    "#hsv_interpolation(rgb_segs_right)\n",
    "#hsv_interpolation(rgb_segs_left)"
   ]
  },
  {
   "cell_type": "code",
   "execution_count": 15,
   "id": "c45cc2d0",
   "metadata": {
    "scrolled": true
   },
   "outputs": [
    {
     "ename": "IndexError",
     "evalue": "list index out of range",
     "output_type": "error",
     "traceback": [
      "\u001b[1;31m---------------------------------------------------------------------------\u001b[0m",
      "\u001b[1;31mIndexError\u001b[0m                                Traceback (most recent call last)",
      "Cell \u001b[1;32mIn[15], line 27\u001b[0m\n\u001b[0;32m     24\u001b[0m             col \u001b[38;5;241m=\u001b[39m rgb_segs[point_index][\u001b[38;5;124m'\u001b[39m\u001b[38;5;124mcolours\u001b[39m\u001b[38;5;124m'\u001b[39m][\u001b[38;5;241m0\u001b[39m]\n\u001b[0;32m     25\u001b[0m             rgb_points[point_index] \u001b[38;5;241m=\u001b[39m {\u001b[38;5;124m\"\u001b[39m\u001b[38;5;124mpoint\u001b[39m\u001b[38;5;124m\"\u001b[39m: (red_dots[point_index \u001b[38;5;241m+\u001b[39m seg_start][\u001b[38;5;241m0\u001b[39m], red_dots[point_index \u001b[38;5;241m+\u001b[39m seg_start][\u001b[38;5;241m1\u001b[39m]), \u001b[38;5;124m\"\u001b[39m\u001b[38;5;124mcolour\u001b[39m\u001b[38;5;124m\"\u001b[39m: col}\n\u001b[1;32m---> 27\u001b[0m \u001b[43mpoint_seg_align\u001b[49m\u001b[43m(\u001b[49m\u001b[43mrgb_points_left\u001b[49m\u001b[43m,\u001b[49m\u001b[43m \u001b[49m\u001b[43mrgb_segs_left\u001b[49m\u001b[43m,\u001b[49m\u001b[43m \u001b[49m\u001b[38;5;241;43m0\u001b[39;49m\u001b[43m)\u001b[49m\n",
      "Cell \u001b[1;32mIn[15], line 17\u001b[0m, in \u001b[0;36mpoint_seg_align\u001b[1;34m(rgb_points, rgb_segs, seg_start)\u001b[0m\n\u001b[0;32m     15\u001b[0m \u001b[38;5;28;01mfor\u001b[39;00m point_index \u001b[38;5;129;01min\u001b[39;00m \u001b[38;5;28mrange\u001b[39m(\u001b[38;5;28mlen\u001b[39m(rgb_segs)):\n\u001b[0;32m     16\u001b[0m     col \u001b[38;5;241m=\u001b[39m rgb_segs[point_index][\u001b[38;5;124m'\u001b[39m\u001b[38;5;124mcolours\u001b[39m\u001b[38;5;124m'\u001b[39m][\u001b[38;5;241m0\u001b[39m]\n\u001b[1;32m---> 17\u001b[0m     rgb_points[point_index \u001b[38;5;241m+\u001b[39m iso_count] \u001b[38;5;241m=\u001b[39m {\u001b[38;5;124m\"\u001b[39m\u001b[38;5;124mpoint\u001b[39m\u001b[38;5;124m\"\u001b[39m: (\u001b[43mred_dots\u001b[49m\u001b[43m[\u001b[49m\u001b[43mpoint_index\u001b[49m\u001b[43m \u001b[49m\u001b[38;5;241;43m+\u001b[39;49m\u001b[43m \u001b[49m\u001b[43mseg_start\u001b[49m\u001b[43m]\u001b[49m[\u001b[38;5;241m0\u001b[39m], red_dots[point_index \u001b[38;5;241m+\u001b[39m seg_start][\u001b[38;5;241m1\u001b[39m]), \u001b[38;5;124m\"\u001b[39m\u001b[38;5;124mcolour\u001b[39m\u001b[38;5;124m\"\u001b[39m: col}\n\u001b[0;32m     18\u001b[0m     \u001b[38;5;28;01mif\u001b[39;00m point_index \u001b[38;5;129;01min\u001b[39;00m iso_segs[i:]:\n\u001b[0;32m     19\u001b[0m         col \u001b[38;5;241m=\u001b[39m rgb_segs[point_index][\u001b[38;5;124m'\u001b[39m\u001b[38;5;124mcolours\u001b[39m\u001b[38;5;124m'\u001b[39m][\u001b[38;5;241m1\u001b[39m]\n",
      "\u001b[1;31mIndexError\u001b[0m: list index out of range"
     ]
    }
   ],
   "source": [
    "rgb_points_left = []\n",
    "#rgb_points_right = []\n",
    "for i in range(len(all_dots)):\n",
    "    rgb_points_left.append(None)\n",
    "\n",
    "# for i in range(len(gdr)):\n",
    "#     rgb_points_right.append(None)\n",
    "\n",
    "def point_seg_align(rgb_points, rgb_segs, seg_start):\n",
    "    i = 0\n",
    "    while i < len(iso_segs) and iso_segs[i] < seg_start:\n",
    "        i += 1\n",
    "    if i < len(iso_segs):\n",
    "        iso_count = 0\n",
    "        for point_index in range(len(rgb_segs)):\n",
    "            col = rgb_segs[point_index]['colours'][0]\n",
    "            rgb_points[point_index + iso_count] = {\"point\": (red_dots[point_index + seg_start][0], red_dots[point_index + seg_start][1]), \"colour\": col}\n",
    "            if point_index in iso_segs[i:]:\n",
    "                col = rgb_segs[point_index]['colours'][1]\n",
    "                iso_count += 1\n",
    "                rgb_points[point_index + iso_count] = {\"point\": (red_dots[point_index + seg_start][0], red_dots[point_index + seg_start][1]), \"colour\": col}\n",
    "    else:\n",
    "        for point_index in range(seg_start, len(red_dots)):\n",
    "            col = rgb_segs[point_index]['colours'][0]\n",
    "            rgb_points[point_index] = {\"point\": (red_dots[point_index + seg_start][0], red_dots[point_index + seg_start][1]), \"colour\": col}\n",
    "\n",
    "point_seg_align(rgb_points_left, rgb_segs_left, 0)\n",
    "#point_seg_align(rgb_points_right, rgb_segs_right, 4)"
   ]
  },
  {
   "cell_type": "code",
   "execution_count": 17,
   "id": "15c96d35",
   "metadata": {},
   "outputs": [
    {
     "data": {
      "text/plain": [
       "[{'segment': [(0.0, 0.0), (10.0, 0.0)],\n",
       "  'colours': [(0.16666666666666666, 1.0, 1), (0.6666666666666666, 1.0, 1)]},\n",
       " {'segment': [(10.0, 0.0), (10.0, 10.0)],\n",
       "  'colours': [(0.6666666666666666, 1.0, 1), (0.16666666666666666, 1.0, 1)]},\n",
       " {'segment': [(10.0, 10.0), (0.0, 10.0)],\n",
       "  'colours': [(0.16666666666666666, 1.0, 1), (0.3333333333333333, 1.0, 1)]},\n",
       " {'segment': [(0.0, 10.0), (0.0, 0.0)],\n",
       "  'colours': [(0.3333333333333333, 1.0, 1), (0.16666666666666666, 1.0, 1)]},\n",
       " {'segment': [(3.0, 7.0), (2.0, 6.0)],\n",
       "  'colours': [(0.6666666666666666, 1.0, 1), (0.8333333333333334, 1.0, 1)]},\n",
       " {'segment': [(2.0, 6.0), (2.5, 4.0)],\n",
       "  'colours': [(0.8333333333333334, 1.0, 1), (0.0, 1.0, 1)]},\n",
       " {'segment': [(2.5, 4.0), (4.5, 3.0)],\n",
       "  'colours': [(0.0, 1.0, 1), (0.16666666666666666, 1.0, 1)]},\n",
       " {'segment': [(4.5, 3.0), (6.5, 4.0)],\n",
       "  'colours': [(0.16666666666666666, 1.0, 1), (0.8333333333333334, 1.0, 1)]},\n",
       " {'segment': [(6.5, 4.0), (8.0, 5.0)],\n",
       "  'colours': [(0.8333333333333334, 1.0, 1), (0.5, 1.0, 1)]},\n",
       " {'segment': [(8.0, 5.0), (7.5, 7.0)],\n",
       "  'colours': [(0.5, 1.0, 1), (0.16666666666666666, 1.0, 1)]},\n",
       " {'segment': [(7.5, 7.0), (6.0, 7.5)],\n",
       "  'colours': [(0.16666666666666666, 1.0, 1), (0.6666666666666666, 1.0, 1)]},\n",
       " {'segment': [(6.0, 7.5), (5.0, 7.0)],\n",
       "  'colours': [(0.6666666666666666, 1.0, 1), (0.0, 1.0, 1)]},\n",
       " {'segment': [(5.0, 7.0), (4.0, 6.0)],\n",
       "  'colours': [(0.0, 1.0, 1), (0.0, 1.0, 1)]},\n",
       " {'segment': [(4.0, 6.0), (4.0, 5.0)],\n",
       "  'colours': [(0.0, 1.0, 1), (0.6666666666666666, 1.0, 1)]},\n",
       " {'segment': [(4.0, 5.0), (5.0, 4.0)],\n",
       "  'colours': [(0.6666666666666666, 1.0, 1), (0.5, 1.0, 1)]},\n",
       " {'segment': [(5.0, 4.0), (6.5, 5.0)],\n",
       "  'colours': [(0.5, 1.0, 1), (0.8333333333333334, 1.0, 1)]},\n",
       " {'segment': [(6.5, 5.0), (6.5, 5.5)],\n",
       "  'colours': [(0.8333333333333334, 1.0, 1), (0.6666666666666666, 1.0, 1)]},\n",
       " {'segment': [(6.5, 5.5), (5.5, 5.0)],\n",
       "  'colours': [(0.6666666666666666, 1.0, 1), (0.8333333333333334, 1.0, 1)]},\n",
       " {'segment': [(5.5, 5.0), (5.0, 5.5)],\n",
       "  'colours': [(0.8333333333333334, 1.0, 1), (0.6666666666666666, 1.0, 1)]},\n",
       " {'segment': [(5.0, 5.5), (5.5, 6.5)],\n",
       "  'colours': [(0.6666666666666666, 1.0, 1), (0.8333333333333334, 1.0, 1)]},\n",
       " {'segment': [(5.5, 6.5), (6.0, 6.0)],\n",
       "  'colours': [(0.8333333333333334, 1.0, 1), (0.16666666666666666, 1.0, 1)]},\n",
       " {'segment': [(0.0, 0.0), (10.0, 0.0)],\n",
       "  'colours': [(0.3333333333333333, 1.0, 1.0), (0.6666666666666666, 1.0, 1.0)]},\n",
       " {'segment': [(10.0, 0.0), (10.0, 10.0)],\n",
       "  'colours': [(0.3333333333333333, 1.0, 1.0), (0.6666666666666666, 1.0, 1.0)]},\n",
       " {'segment': [(10.0, 10.0), (0.0, 10.0)],\n",
       "  'colours': [(0.6666666666666666, 1.0, 1.0), (0.3333333333333333, 1.0, 1.0)]},\n",
       " {'segment': [(0.0, 10.0), (0.0, 0.0)],\n",
       "  'colours': [(0.3333333333333333, 1.0, 1.0), (0.8333333333333334, 1.0, 1.0)]},\n",
       " {'segment': [(3.0, 7.0), (2.0, 6.0)],\n",
       "  'colours': [(0.8333333333333334, 1.0, 1.0), (0.8333333333333334, 1.0, 1.0)]},\n",
       " {'segment': [(2.0, 6.0), (2.5, 4.0)],\n",
       "  'colours': [(0.8333333333333334, 1.0, 1.0), (0.8333333333333334, 1.0, 1.0)]},\n",
       " {'segment': [(2.5, 4.0), (4.5, 3.0)],\n",
       "  'colours': [(0.8333333333333334, 1.0, 1.0), (0.8333333333333334, 1.0, 1.0)]},\n",
       " {'segment': [(4.5, 3.0), (6.5, 4.0)],\n",
       "  'colours': [(0.8333333333333334, 1.0, 1.0), (0.8333333333333334, 1.0, 1.0)]},\n",
       " {'segment': [(6.5, 4.0), (8.0, 5.0)],\n",
       "  'colours': [(0.8333333333333334, 1.0, 1.0), (0.8333333333333334, 1.0, 1.0)]},\n",
       " {'segment': [(8.0, 5.0), (7.5, 7.0)],\n",
       "  'colours': [(0.8333333333333334, 1.0, 1.0), (0.8333333333333334, 1.0, 1.0)]},\n",
       " {'segment': [(7.5, 7.0), (6.0, 7.5)],\n",
       "  'colours': [(0.8333333333333334, 1.0, 1.0), (0.8333333333333334, 1.0, 1.0)]},\n",
       " {'segment': [(6.0, 7.5), (5.0, 7.0)],\n",
       "  'colours': [(0.8333333333333334, 1.0, 1.0), (0.8333333333333334, 1.0, 1.0)]},\n",
       " {'segment': [(5.0, 7.0), (4.0, 6.0)],\n",
       "  'colours': [(0.8333333333333334, 1.0, 1.0), (0.8333333333333334, 1.0, 1.0)]},\n",
       " {'segment': [(4.0, 6.0), (4.0, 5.0)],\n",
       "  'colours': [(0.8333333333333334, 1.0, 1.0), (0.8333333333333334, 1.0, 1.0)]},\n",
       " {'segment': [(4.0, 5.0), (5.0, 4.0)],\n",
       "  'colours': [(0.8333333333333334, 1.0, 1.0), (0.8333333333333334, 1.0, 1.0)]},\n",
       " {'segment': [(5.0, 4.0), (6.5, 5.0)],\n",
       "  'colours': [(0.8333333333333334, 1.0, 1.0), (0.8333333333333334, 1.0, 1.0)]},\n",
       " {'segment': [(6.5, 5.0), (6.5, 5.5)],\n",
       "  'colours': [(0.8333333333333334, 1.0, 1.0), (0.8333333333333334, 1.0, 1.0)]},\n",
       " {'segment': [(6.5, 5.5), (5.5, 5.0)],\n",
       "  'colours': [(0.8333333333333334, 1.0, 1.0), (0.8333333333333334, 1.0, 1.0)]},\n",
       " {'segment': [(5.5, 5.0), (5.0, 5.5)],\n",
       "  'colours': [(0.8333333333333334, 1.0, 1.0), (0.8333333333333334, 1.0, 1.0)]},\n",
       " {'segment': [(5.0, 5.5), (5.5, 6.5)],\n",
       "  'colours': [(0.8333333333333334, 1.0, 1.0), (0.8333333333333334, 1.0, 1.0)]},\n",
       " {'segment': [(5.5, 6.5), (6.0, 6.0)],\n",
       "  'colours': [(0.8333333333333334, 1.0, 1.0), (0.8333333333333334, 1.0, 1.0)]}]"
      ]
     },
     "execution_count": 17,
     "metadata": {},
     "output_type": "execute_result"
    }
   ],
   "source": [
    "rgb_segs_left"
   ]
  },
  {
   "cell_type": "code",
   "execution_count": 17,
   "id": "e0f06c65",
   "metadata": {},
   "outputs": [],
   "source": [
    "#Interpolate RGB values for all triangle-generated points\n",
    "def interpolate_points(rgb_points, rgb_segs, segment_green_points, point_start, seg_start):\n",
    "    for seg in segment_green_points:\n",
    "        for point in segment_green_points[seg]:\n",
    "            line = segment_lines[seg]\n",
    "            line_height = abs(line[0][1] - line[1][1])\n",
    "            line_width = abs(line[0][0] - line[1][0])\n",
    "            rel_height = abs(point[1] - line[0][1])\n",
    "            rel_width = abs(point[0] - line[0][0])\n",
    "            ratio = max(rel_height, rel_width) / max(line_height, line_width)\n",
    "\n",
    "            start_r, start_g, start_b = rgb_segs[seg - seg_start][\"colours\"][0]\n",
    "            end_r, end_g, end_b = rgb_segs[seg - seg_start][\"colours\"][1]\n",
    "\n",
    "            r = ((end_r - start_r) * ratio) + start_r\n",
    "            g = ((end_g - start_g) * ratio) + start_g\n",
    "            b = ((end_b - start_b) * ratio) + start_b\n",
    "            \n",
    "            if r < 0:\n",
    "                r = 0\n",
    "            elif r > 1:\n",
    "                r = 1\n",
    "            if g < 0:\n",
    "                g = 0\n",
    "            elif g > 1:\n",
    "                g = 1\n",
    "            if b < 0:\n",
    "                b = 0\n",
    "            elif b > 1:\n",
    "                b = 1\n",
    "\n",
    "            pnt_obj = {\"point\": (point[0], point[1]), \"colour\": (r, g, b)}\n",
    "            rgb_points[point[2] - point_start] = pnt_obj\n",
    "\n",
    "interpolate_points(rgb_points_left, rgb_segs_left, seg_green_left, 0, 0)\n",
    "#interpolate_points(rgb_points_right, rgb_segs_right, seg_green_right, len(all_dots) - len(gdr), 4)"
   ]
  },
  {
   "cell_type": "code",
   "execution_count": 18,
   "id": "7f124042",
   "metadata": {
    "scrolled": false
   },
   "outputs": [
    {
     "data": {
      "text/plain": [
       "<matplotlib.collections.PathCollection at 0x1f4984d9750>"
      ]
     },
     "execution_count": 18,
     "metadata": {},
     "output_type": "execute_result"
    },
    {
     "data": {
      "image/png": "[encoded data removed]",
      "text/plain": [
       "<Figure size 640x480 with 1 Axes>"
      ]
     },
     "metadata": {},
     "output_type": "display_data"
    }
   ],
   "source": [
    "#plot segment lines using data gathered!\n",
    "plot_x = []\n",
    "plot_y = []\n",
    "co = []\n",
    "for i in rgb_points_left:\n",
    "    plot_x.append(i['point'][0])\n",
    "    plot_y.append(i['point'][1])\n",
    "    colr = ()\n",
    "    if isHsv:\n",
    "        colr = colorsys.hsv_to_rgb(i['colour'][0], i['colour'][1], i['colour'][2])\n",
    "    else:\n",
    "        colr = (i['colour'][0], i['colour'][1], i['colour'][2])\n",
    "    co.append(colr)\n",
    "\n",
    "for i in rgb_points_right:\n",
    "    plot_x.append(i['point'][0])\n",
    "    plot_y.append(i['point'][1])\n",
    "    colr = ()\n",
    "    if isHsv:\n",
    "        colr = colorsys.hsv_to_rgb(i['colour'][0], i['colour'][1], i['colour'][2])\n",
    "    else:\n",
    "        colr = (i['colour'][0], i['colour'][1], i['colour'][2])\n",
    "    co.append(colr)\n",
    "\n",
    "plt.scatter(plot_x, plot_y, c=co)"
   ]
  },
  {
   "cell_type": "code",
   "execution_count": 17,
   "id": "ca018ec0",
   "metadata": {},
   "outputs": [],
   "source": [
    "rgb_points = rgb_points_left + rgb_points_right"
   ]
  },
  {
   "cell_type": "code",
   "execution_count": 18,
   "id": "f2a236e5",
   "metadata": {},
   "outputs": [],
   "source": [
    "count = 0\n",
    "#Write vertex-colour data onto txt files\n",
    "vertex_reds = open(\"vertex_reds.txt\", \"w\")\n",
    "for point_i in all_dots_indexed:\n",
    "    vertex_reds.write(f\"{point_i} {rgb_points[count]['colour'][0]}\\n\")\n",
    "    count += 1\n",
    "vertex_reds.close()\n",
    "\n",
    "count = 0\n",
    "vertex_greens = open(\"vertex_greens.txt\", \"w\")\n",
    "for point_i in all_dots_indexed:\n",
    "    vertex_greens.write(f\"{point_i} {rgb_points[count]['colour'][1]}\\n\")\n",
    "    count += 1\n",
    "vertex_greens.close()\n",
    "\n",
    "count = 0\n",
    "vertex_blues = open(\"vertex_blues.txt\", \"w\")\n",
    "for point_i in all_dots_indexed:\n",
    "    vertex_blues.write(f\"{point_i} {rgb_points[count]['colour'][2]}\\n\")\n",
    "    count += 1\n",
    "vertex_blues.close()\n",
    "\n",
    "\n",
    "#Write mesh generated by triangle onto obj file\n",
    "obj = open(\"meshObj.obj\", \"w\")\n",
    "for point in meshObj['vertices']:\n",
    "    obj.write(f'v {point[0]} {point[1]}  0\\n')\n",
    "obj.write('\\n\\n\\n\\n\\n\\n')\n",
    "for triangle in meshObj['triangles']:\n",
    "    obj.write(f'f {triangle[0] + 1} {triangle[1] + 1} {triangle[2] + 1}\\n')\n",
    "obj.close()\n",
    "\n",
    "#Set up problems for PolyFEM\n",
    "reds = {\n",
    "    \"geometry\": {\n",
    "        \"mesh\": \"meshObj.obj\"\n",
    "    },\n",
    "    \"materials\": {\n",
    "        \"type\": \"Laplacian\"\n",
    "    },\n",
    "    \"boundary_conditions\": {\n",
    "        \"dirichlet_boundary\": [\n",
    "            \"vertex_reds.txt\"\n",
    "        ]\n",
    "    },\n",
    "    \"output\": {\n",
    "        \"paraview\": {\n",
    "            \"file_name\": \"red.vtu\"\n",
    "        }\n",
    "    }\n",
    "}\n",
    "\n",
    "greens = {\n",
    "    \"geometry\": {\n",
    "        \"mesh\": \"meshObj.obj\"\n",
    "    },\n",
    "    \"materials\": {\n",
    "        \"type\": \"Laplacian\"\n",
    "    },\n",
    "    \"boundary_conditions\": {\n",
    "        \"dirichlet_boundary\": [\n",
    "            \"vertex_greens.txt\"\n",
    "        ]\n",
    "    },\n",
    "    \"output\": {\n",
    "        \"paraview\": {\n",
    "            \"file_name\": \"green.vtu\"\n",
    "        }\n",
    "    }\n",
    "}\n",
    "\n",
    "blues = {\n",
    "    \"geometry\": {\n",
    "        \"mesh\": \"meshObj.obj\"\n",
    "    },\n",
    "    \"materials\": {\n",
    "        \"type\": \"Laplacian\"\n",
    "    },\n",
    "    \"boundary_conditions\": {\n",
    "        \"dirichlet_boundary\": [\n",
    "            \"vertex_blues.txt\"\n",
    "        ]\n",
    "    },\n",
    "    \"output\": {\n",
    "        \"paraview\": {\n",
    "            \"file_name\": \"blue.vtu\"\n",
    "        }\n",
    "    }\n",
    "}\n",
    "\n",
    "\n",
    "#Dump problems into readable json files\n",
    "with open(\"red.json\", \"w\") as fp:\n",
    "    json.dump(reds, fp)\n",
    "    \n",
    "with open(\"green.json\", \"w\") as fp:\n",
    "    json.dump(greens, fp)\n",
    "    \n",
    "with open(\"blue.json\", \"w\") as fp:\n",
    "    json.dump(blues, fp)\n",
    "\n",
    "\n",
    "#Generate red map for object\n",
    "command = [\"C:\\\\polyfem\\\\out\\\\build\\\\x64-Debug\\\\PolyFEM_bin.exe\",\"-j\", \"red.json\"]\n",
    "p = subprocess.run(command, shell=True, stdout=subprocess.PIPE, stderr=subprocess.PIPE)\n",
    "\n",
    "#Generate green map for object\n",
    "command = [\"C:\\\\polyfem\\\\out\\\\build\\\\x64-Debug\\\\PolyFEM_bin.exe\",\"-j\", \"green.json\"]\n",
    "p = subprocess.run(command, shell=True, stdout=subprocess.PIPE, stderr=subprocess.PIPE)\n",
    "\n",
    "#Generate blue map for object\n",
    "command = [\"C:\\\\polyfem\\\\out\\\\build\\\\x64-Debug\\\\PolyFEM_bin.exe\",\"-j\", \"blue.json\"]\n",
    "p = subprocess.run(command, shell=True, stdout=subprocess.PIPE, stderr=subprocess.PIPE)"
   ]
  },
  {
   "cell_type": "code",
   "execution_count": 3,
   "id": "d8396a01",
   "metadata": {},
   "outputs": [],
   "source": [
    "#isHsv = True"
   ]
  },
  {
   "cell_type": "code",
   "execution_count": 4,
   "id": "54985f73",
   "metadata": {},
   "outputs": [],
   "source": [
    "#Read files generated by PolyFEM\n",
    "red = meshio.read(\"red.vtu\")\n",
    "green = meshio.read(\"green.vtu\")\n",
    "blue = meshio.read(\"blue.vtu\")\n",
    "\n",
    "\n",
    "#Use reordered faces from one of the files generated by PolyFEM (they're all ordered the same)\n",
    "face_list = red.cells_dict['triangle']\n",
    "\n",
    "\n",
    "#Grab generated RGB values and compile into a colour array (co), then convert to mp-readable array with numpy\n",
    "co = []\n",
    "for i in range(len(red.points)):\n",
    "    colr = ()\n",
    "    if isHsv:\n",
    "        colr = colorsys.hsv_to_rgb(red.point_data['solution'][i][0], green.point_data['solution'][i][0], blue.point_data['solution'][i][0])\n",
    "    else:\n",
    "        colr = (red.point_data['solution'][i][0], green.point_data['solution'][i][0], blue.point_data['solution'][i][0])\n",
    "    co.append(colr)\n",
    "col = np.array(co)"
   ]
  },
  {
   "cell_type": "code",
   "execution_count": null,
   "id": "8a594791",
   "metadata": {},
   "outputs": [
    {
     "data": {
      "application/vnd.jupyter.widget-view+json": {
       "model_id": "9e92457d264f4d0a97b883265afed3e3",
       "version_major": 2,
       "version_minor": 0
      },
      "text/plain": [
       "Renderer(camera=PerspectiveCamera(children=(DirectionalLight(color='white', intensity=0.6, position=(5.0, 5.0,…"
      ]
     },
     "metadata": {},
     "output_type": "display_data"
    },
    {
     "data": {
      "text/plain": [
       "<meshplot.Viewer.Viewer at 0x20db23bd5d0>"
      ]
     },
     "execution_count": 5,
     "metadata": {},
     "output_type": "execute_result"
    }
   ],
   "source": [
    "#Generate 3D object!\n",
    "mp.plot(red.points, face_list, c=col, return_plot=True)"
   ]
  },
  {
   "cell_type": "code",
   "execution_count": null,
   "id": "412e5036",
   "metadata": {},
   "outputs": [],
   "source": []
  }
 ],
 "metadata": {
  "kernelspec": {
   "display_name": "Python 3 (ipykernel)",
   "language": "python",
   "name": "python3"
  },
  "language_info": {
   "codemirror_mode": {
    "name": "ipython",
    "version": 3
   },
   "file_extension": ".py",
   "mimetype": "text/x-python",
   "name": "python",
   "nbconvert_exporter": "python",
   "pygments_lexer": "ipython3",
   "version": "3.10.10"
  }
 },
 "nbformat": 4,
 "nbformat_minor": 5
}
