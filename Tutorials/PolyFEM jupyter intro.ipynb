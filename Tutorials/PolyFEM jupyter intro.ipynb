{
 "cells": [
  {
   "cell_type": "code",
   "execution_count": 1,
   "id": "68617432",
   "metadata": {},
   "outputs": [],
   "source": [
    "import meshplot as mp\n",
    "import numpy as np\n",
    "import polyfempy as pf"
   ]
  },
  {
   "cell_type": "code",
   "execution_count": 2,
   "id": "1c532aa2",
   "metadata": {},
   "outputs": [],
   "source": [
    "def create_quad_mesh(n_pts):\n",
    "    extend = np.linspace(0,1,n_pts)\n",
    "    \n",
    "    #x = extend n_pts times, y = each element from extend n_pts times \n",
    "    x, y = np.meshgrid(extend, extend, sparse=False, indexing='xy')\n",
    "    \n",
    "    #pts = every possible combination of x and y\n",
    "    pts = np.column_stack((x.ravel(), y.ravel()))\n",
    "    \n",
    "    #i, j, k and l vals of the shape? 4 of them bc quad_mesh\n",
    "    faces = np.ndarray([(n_pts-1)**2, 4],dtype=np.int32)\n",
    "\n",
    "    index = 0\n",
    "    for i in range(n_pts-1):\n",
    "        for j in range(n_pts-1):\n",
    "            faces[index, :] = np.array([\n",
    "                j + i * n_pts,\n",
    "                j+1 + i * n_pts,\n",
    "                j+1 + (i+1) * n_pts,\n",
    "                j + (i+1) * n_pts\n",
    "            ])\n",
    "            index = index + 1\n",
    "            \n",
    "    return pts, faces"
   ]
  },
  {
   "cell_type": "code",
   "execution_count": 3,
   "id": "4fdfae53",
   "metadata": {},
   "outputs": [],
   "source": [
    "mesh_path = \"plane_hole.obj\""
   ]
  },
  {
   "cell_type": "code",
   "execution_count": 4,
   "id": "f3d555f2",
   "metadata": {},
   "outputs": [],
   "source": [
    "settings = pf.Settings(\n",
    "    discr_order=1,\n",
    "    pde=pf.PDEs.LinearElasticity\n",
    ")"
   ]
  },
  {
   "cell_type": "code",
   "execution_count": 5,
   "id": "e14f1787",
   "metadata": {},
   "outputs": [],
   "source": [
    "settings.set_material_params(\"E\", 210000)\n",
    "settings.set_material_params(\"nu\", 0.3)"
   ]
  },
  {
   "cell_type": "code",
   "execution_count": 6,
   "id": "4dcb4acb",
   "metadata": {},
   "outputs": [],
   "source": [
    "problem = pf.Problem()"
   ]
  },
  {
   "cell_type": "code",
   "execution_count": 7,
   "id": "f39d3733",
   "metadata": {},
   "outputs": [],
   "source": [
    "problem.set_x_symmetric(1)\n",
    "problem.set_y_symmetric(4)\n",
    "problem.set_force(3, [100, 0])"
   ]
  },
  {
   "cell_type": "code",
   "execution_count": 8,
   "id": "1c581bd7",
   "metadata": {},
   "outputs": [],
   "source": [
    "settings.problem = problem"
   ]
  },
  {
   "cell_type": "code",
   "execution_count": 9,
   "id": "a1f76324",
   "metadata": {},
   "outputs": [
    {
     "name": "stdout",
     "output_type": "stream",
     "text": [
      "[2023-06-02 17:58:24.037] [polyfem] [info] Loading mesh...\r\n",
      "[2023-06-02 17:58:24.037] [geogram] [info] Loading file plane_hole.obj...\r\n",
      "[2023-06-02 17:58:24.192] [geogram] [info] (FP64) nb_v:8549 nb_e:0 nb_f:16797 nb_b:299 tri:1 dim:3\r\n",
      "[2023-06-02 17:58:24.192] [geogram] [info] Attributes on vertices: point[3]\r\n",
      "[2023-06-02 17:58:24.245] [polyfem] [info] mesh bb min [0, 0], max [1, 0.500001]\r\n",
      "[2023-06-02 17:58:24.246] [polyfem] [info]  took 0.209354s\r\n"
     ]
    }
   ],
   "source": [
    "solver = pf.Solver()\n",
    "\n",
    "solver.settings(settings)\n",
    "solver.load_mesh_from_path(mesh_path, normalize_mesh=True)"
   ]
  },
  {
   "cell_type": "code",
   "execution_count": 10,
   "id": "3c02066b",
   "metadata": {},
   "outputs": [
    {
     "name": "stdout",
     "output_type": "stream",
     "text": [
      "[2023-06-02 17:58:26.043] [polyfem] [info] simplex_count: \t16797\r\n",
      "[2023-06-02 17:58:26.043] [polyfem] [info] regular_count: \t0\r\n",
      "[2023-06-02 17:58:26.043] [polyfem] [info] regular_boundary_count: \t0\r\n",
      "[2023-06-02 17:58:26.043] [polyfem] [info] simple_singular_count: \t0\r\n",
      "[2023-06-02 17:58:26.043] [polyfem] [info] multi_singular_count: \t0\r\n",
      "[2023-06-02 17:58:26.043] [polyfem] [info] boundary_count: \t0\r\n",
      "[2023-06-02 17:58:26.043] [polyfem] [info] multi_singular_boundary_count: \t0\r\n",
      "[2023-06-02 17:58:26.043] [polyfem] [info] non_regular_count: \t0\r\n",
      "[2023-06-02 17:58:26.043] [polyfem] [info] non_regular_boundary_count: \t0\r\n",
      "[2023-06-02 17:58:26.043] [polyfem] [info] undefined_count: \t0\r\n",
      "[2023-06-02 17:58:26.043] [polyfem] [info] total count:\t 16797\r\n",
      "[2023-06-02 17:58:26.068] [polyfem] [info] Building isoparametric basis...\r\n",
      "[2023-06-02 17:58:26.173] [polyfem] [info] Computing polygonal basis...\r\n",
      "[2023-06-02 17:58:26.174] [polyfem] [info]  took 0.0011767s\r\n",
      "[2023-06-02 17:58:26.179] [polyfem] [info] hmin: 0.004207\r\n",
      "[2023-0[2023-06-02 17:58:26.043] [polyfem] [info] simplex_count: \t16797\r\n",
      "[2023-06-02 17:58:26.043] [polyfem] [info] regular_count: \t0\r\n",
      "[2023-06-02 17:58:26.043] [polyfem] [info] regular_boundary_count: \t0\r\n",
      "[2023-06-02 17:58:26.043] [polyfem] [info] simple_singular_count: \t0\r\n",
      "[2023-06-02 17:58:26.043] [polyfem] [info] multi_singular_count: \t0\r\n",
      "[2023-06-02 17:58:26.043] [polyfem] [info] boundary_count: \t0\r\n",
      "[2023-06-02 17:58:26.043] [polyfem] [info] multi_singular_boundary_count: \t0\r\n",
      "[2023-06-02 17:58:26.043] [polyfem] [info] non_regular_count: \t0\r\n",
      "[2023-06-02 17:58:26.043] [polyfem] [info] non_regular_boundary_count: \t0\r\n",
      "[2023-06-02 17:58:26.043] [polyfem] [info] undefined_count: \t0\r\n",
      "[2023-06-02 17:58:26.043] [polyfem] [info] total count:\t 16797\r\n",
      "[2023-06-02 17:58:26.068] [polyfem] [info] Building isoparametric basis...\r\n",
      "[2023-06-02 17:58:26.173] [polyfem] [info] Computing polygonal basis...\r\n",
      "[2023-06-02 17:58:26.174] [polyfem] [info]  took 0.0011767s\r\n",
      "[2023-06-02 17:58:26.179] [polyfem] [info] hmin: 0.004207\r\n",
      "[2023-0"
     ]
    }
   ],
   "source": [
    "solver.solve()"
   ]
  },
  {
   "cell_type": "code",
   "execution_count": 11,
   "id": "35e8f1a9",
   "metadata": {},
   "outputs": [],
   "source": [
    "pts, tets, disp = solver.get_sampled_solution()"
   ]
  },
  {
   "cell_type": "code",
   "execution_count": 12,
   "id": "3242ec15",
   "metadata": {},
   "outputs": [],
   "source": [
    "vertices = pts + disp"
   ]
  },
  {
   "cell_type": "code",
   "execution_count": 13,
   "id": "007246c2",
   "metadata": {},
   "outputs": [],
   "source": [
    "mises, _ = solver.get_sampled_mises_avg()"
   ]
  },
  {
   "cell_type": "code",
   "execution_count": 19,
   "id": "80428216",
   "metadata": {
    "scrolled": true
   },
   "outputs": [
    {
     "data": {
      "text/plain": [
       "array([[132.50296492],\n",
       "       [128.33963309],\n",
       "       [124.17630126],\n",
       "       ...,\n",
       "       [146.39403661],\n",
       "       [147.00204119],\n",
       "       [145.97232228]])"
      ]
     },
     "execution_count": 19,
     "metadata": {},
     "output_type": "execute_result"
    }
   ],
   "source": [
    "# mp.plot(vertices, tets, mises, return_plot=True)\n",
    "\n",
    "mises"
   ]
  },
  {
   "cell_type": "code",
   "execution_count": null,
   "id": "daa1f542",
   "metadata": {},
   "outputs": [],
   "source": []
  }
 ],
 "metadata": {
  "kernelspec": {
   "display_name": "Python 3 (ipykernel)",
   "language": "python",
   "name": "python3"
  },
  "language_info": {
   "codemirror_mode": {
    "name": "ipython",
    "version": 3
   },
   "file_extension": ".py",
   "mimetype": "text/x-python",
   "name": "python",
   "nbconvert_exporter": "python",
   "pygments_lexer": "ipython3",
   "version": "3.10.10"
  }
 },
 "nbformat": 4,
 "nbformat_minor": 5
}
