{
 "cells": [
  {
   "cell_type": "code",
   "execution_count": 2,
   "id": "34bfc866",
   "metadata": {},
   "outputs": [],
   "source": [
    "import numpy as np\n",
    "import scipy.sparse as spr\n",
    "from scipy.sparse.linalg import spsolve\n",
    "import plotly.graph_objects as go\n",
    "import meshplot as mp\n",
    "import polyfempy as pf"
   ]
  },
  {
   "cell_type": "code",
   "execution_count": null,
   "id": "2e8c274f",
   "metadata": {},
   "outputs": [],
   "source": []
  }
 ],
 "metadata": {
  "kernelspec": {
   "display_name": "Python 3 (ipykernel)",
   "language": "python",
   "name": "python3"
  },
  "language_info": {
   "codemirror_mode": {
    "name": "ipython",
    "version": 3
   },
   "file_extension": ".py",
   "mimetype": "text/x-python",
   "name": "python",
   "nbconvert_exporter": "python",
   "pygments_lexer": "ipython3",
   "version": "3.10.10"
  }
 },
 "nbformat": 4,
 "nbformat_minor": 5
}
