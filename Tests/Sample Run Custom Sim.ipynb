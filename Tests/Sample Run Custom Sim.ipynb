{
 "cells": [
  {
   "cell_type": "code",
   "execution_count": 1,
   "id": "7cf90f86",
   "metadata": {},
   "outputs": [],
   "source": [
    "import json\n",
    "import subprocess\n",
    "import os"
   ]
  },
  {
   "cell_type": "code",
   "execution_count": 2,
   "id": "17467dfc",
   "metadata": {},
   "outputs": [],
   "source": [
    "test = {\n",
    "    \"geometry\": [\n",
    "        {\n",
    "            \"mesh\": \"napkin.obj\"\n",
    "        }\n",
    "    ],\n",
    "    \"materials\": {\n",
    "        \"type\": \"Laplacian\"\n",
    "    },\n",
    "    \"preset_problem\": {\n",
    "        \"type\": \"Franke\"\n",
    "    },\n",
    "    \"output\": {\n",
    "        \"paraview\": {\n",
    "            \"file_name\": \"sim.vtu\"\n",
    "        }\n",
    "    }\n",
    "}"
   ]
  },
  {
   "cell_type": "code",
   "execution_count": 3,
   "id": "cdab1a72",
   "metadata": {},
   "outputs": [],
   "source": [
    "with open(\"test.json\", \"w\") as fp:\n",
    "    json.dump(test, fp)"
   ]
  },
  {
   "cell_type": "code",
   "execution_count": 4,
   "id": "e860df02",
   "metadata": {},
   "outputs": [],
   "source": [
    "command = [\"PolyFEM_bin.exe\",\"-j\",  \"test.json\"]"
   ]
  },
  {
   "cell_type": "code",
   "execution_count": 5,
   "id": "6aadfbfd",
   "metadata": {},
   "outputs": [
    {
     "ename": "AttributeError",
     "evalue": "'CompletedProcess' object has no attribute 'wait'",
     "output_type": "error",
     "traceback": [
      "\u001b[1;31m---------------------------------------------------------------------------\u001b[0m",
      "\u001b[1;31mAttributeError\u001b[0m                            Traceback (most recent call last)",
      "Cell \u001b[1;32mIn[5], line 2\u001b[0m\n\u001b[0;32m      1\u001b[0m p \u001b[38;5;241m=\u001b[39m subprocess\u001b[38;5;241m.\u001b[39mrun(command, shell\u001b[38;5;241m=\u001b[39m\u001b[38;5;28;01mTrue\u001b[39;00m, stdout\u001b[38;5;241m=\u001b[39msubprocess\u001b[38;5;241m.\u001b[39mPIPE, stderr\u001b[38;5;241m=\u001b[39msubprocess\u001b[38;5;241m.\u001b[39mPIPE)\n\u001b[1;32m----> 2\u001b[0m \u001b[43mp\u001b[49m\u001b[38;5;241;43m.\u001b[39;49m\u001b[43mwait\u001b[49m()\n",
      "\u001b[1;31mAttributeError\u001b[0m: 'CompletedProcess' object has no attribute 'wait'"
     ]
    }
   ],
   "source": [
    "p = subprocess.run(command, shell=True, stdout=subprocess.PIPE, stderr=subprocess.PIPE)"
   ]
  },
  {
   "cell_type": "code",
   "execution_count": 13,
   "id": "fd9c3df8",
   "metadata": {
    "scrolled": true
   },
   "outputs": [
    {
     "data": {
      "text/plain": [
       "['[2023-05-25 14:26:46.355] [polyfem] [info] Saving output to \\r',\n",
       " '[2023-05-25 14:26:46.364] [polyfem] [info] Loading mesh ...\\r',\n",
       " '[2023-05-25 14:26:46.365] [geogram] [info] Loading file C:\\\\Users\\\\Chris Goodwin\\\\Documents\\\\Internship\\\\napkin.obj...\\r',\n",
       " '[2023-05-25 14:26:46.381] [geogram] [info] (FP64) nb_v:792 nb_e:0 nb_f:1467 nb_b:119 tri:1 dim:3\\r',\n",
       " '[2023-05-25 14:26:46.381] [geogram] [info] Attributes on vertices: point[3]\\r',\n",
       " '[2023-05-25 14:26:46.434] [polyfem] [info] mesh bb min [[0, 0]], max [[10, 10]]\\r',\n",
       " '[2023-05-25 14:26:46.434] [polyfem] [info]  took 0.070036s\\r',\n",
       " '[2023-05-25 14:26:46.436] [polyfem] [info] Loading obstacles...\\r',\n",
       " '[2023-05-25 14:26:46.436] [polyfem] [info]  took 0.0001864000244140625s\\r',\n",
       " '[2023-05-25 14:26:46.436] [polyfem] [info] simplex_count: \\t1467\\r',\n",
       " '[2023-05-25 14:26:46.436] [polyfem] [info] regular_count: \\t0\\r',\n",
       " '[2023-05-25 14:26:46.436] [polyfem] [info] regular_boundary_count: \\t0\\r',\n",
       " '[2023-05-25 14:26:46.436] [polyfem] [info] simple_singular_count: \\t0\\r',\n",
       " '[2023-05-25 14:26:46.436] [polyfem] [info] multi_singular_count: \\t0\\r',\n",
       " '[2023-05-25 14:26:46.436] [polyfem] [info] boundary_count: \\t0\\r',\n",
       " '[2023-05-25 14:26:46.436] [polyfem] [info] multi_singular_boundary_count: \\t0\\r',\n",
       " '[2023-05-25 14:26:46.436] [polyfem] [info] non_regular_count: \\t0\\r',\n",
       " '[2023-05-25 14:26:46.436] [polyfem] [info] non_regular_boundary_count: \\t0\\r',\n",
       " '[2023-05-25 14:26:46.436] [polyfem] [info] undefined_count: \\t0\\r',\n",
       " '[2023-05-25 14:26:46.436] [polyfem] [info] total count:\\t 1467\\r',\n",
       " '[2023-05-25 14:26:46.436] [polyfem] [info] Building isoparametric basis...\\r',\n",
       " '[2023-05-25 14:26:46.662] [polyfem] [info] Counting flipped elements...\\r',\n",
       " '[2023-05-25 14:26:46.751] [polyfem] [info]  done\\r',\n",
       " '[2023-05-25 14:26:46.751] [polyfem] [info] Building collision mesh...\\r',\n",
       " '[2023-05-25 14:26:46.754] [polyfem] [info] Done!\\r',\n",
       " '[2023-05-25 14:26:46.754] [polyfem] [debug] Building node mapping...\\r',\n",
       " '[2023-05-25 14:26:46.764] [polyfem] [debug] Done (took 0.009191199981689453s)\\r',\n",
       " '[2023-05-25 14:26:46.775] [polyfem] [info] hmin: 0.27938694289646265\\r',\n",
       " '[2023-05-25 14:26:46.775] [polyfem] [info] hmax: 0.75\\r',\n",
       " '[2023-05-25 14:26:46.775] [polyfem] [info] havg: 0.4012215725797955\\r',\n",
       " '[2023-05-25 14:26:46.775] [polyfem] [info] n_bases 792\\r',\n",
       " '[2023-05-25 14:26:46.775] [polyfem] [info]  took 0.22466520001220702s\\r',\n",
       " '[2023-05-25 14:26:46.775] [polyfem] [info] flipped elements 0\\r',\n",
       " '[2023-05-25 14:26:46.775] [polyfem] [info] h: 0.75\\r',\n",
       " '[2023-05-25 14:26:46.775] [polyfem] [info] n bases: 792\\r',\n",
       " '[2023-05-25 14:26:46.775] [polyfem] [info] n pressure bases: 0\\r',\n",
       " '[2023-05-25 14:26:46.775] [polyfem] [info] Building cache...\\r',\n",
       " '[2023-05-25 14:26:46.895] [polyfem] [info]  took 0.12016440002441406s\\r',\n",
       " '[2023-05-25 14:26:46.895] [polyfem] [info] Assigning rhs...\\r',\n",
       " '[2023-05-25 14:26:48.399] [polyfem] [info]  took 1.5040063000183104s\\r',\n",
       " '[2023-05-25 14:26:48.399] [polyfem] [info] Solving Laplacian\\r',\n",
       " '[2023-05-25 14:26:48.399] [polyfem] [info] Solve using Hypre linear solver\\r',\n",
       " '[2023-05-25 14:26:48.400] [polyfem] [info] Hypre...\\r',\n",
       " '[2023-05-25 14:26:48.427] [polyfem] [info] Assembling stiffness mat...\\r',\n",
       " '[2023-05-25 14:26:48.479] [polyfem] [info]  took 0.05162160000610351s\\r',\n",
       " '[2023-05-25 14:26:48.479] [polyfem] [info] sparsity: 5312/627264\\r',\n",
       " '[2023-05-25 14:26:48.494] [polyfem] [debug] Solver error: 1.2326891208026702e-10\\r',\n",
       " '[2023-05-25 14:26:48.494] [polyfem] [info]  took 0.09501630001831055s\\r',\n",
       " '[2023-05-25 14:26:48.494] [polyfem] [info] Computing errors...\\r',\n",
       " '[2023-05-25 14:26:48.880] [polyfem] [info]  took 0.3853795s\\r',\n",
       " '[2023-05-25 14:26:48.880] [polyfem] [info] -- L2 error: 0.5899636134808266\\r',\n",
       " '[2023-05-25 14:26:48.880] [polyfem] [info] -- Lp error: 0.6740165871106173\\r',\n",
       " '[2023-05-25 14:26:48.880] [polyfem] [info] -- H1 error: 1.5705786671879733\\r',\n",
       " '[2023-05-25 14:26:48.880] [polyfem] [info] -- H1 semi error: 1.455561844991341\\r',\n",
       " '[2023-05-25 14:26:48.880] [polyfem] [info] -- Linf error: 0.7906148148168228\\r',\n",
       " '[2023-05-25 14:26:48.880] [polyfem] [info] -- grad max error: 0.7906148148168228\\r',\n",
       " '[2023-05-25 14:26:48.880] [polyfem] [info] total time: 0.37130310003662104s\\r',\n",
       " 'o-[Process     ] Using Windows thread pool\\r',\n",
       " '                 Multithreading enabled\\r',\n",
       " '                 Available cores = 8\\r',\n",
       " '                 Max used threads = 8\\r',\n",
       " '                 Cancel mode disabled\\r',\n",
       " '']"
      ]
     },
     "execution_count": 13,
     "metadata": {},
     "output_type": "execute_result"
    }
   ],
   "source": [
    "p.stdout.decode(\"utf-8\").split(\"\\n\")"
   ]
  },
  {
   "cell_type": "code",
   "execution_count": 14,
   "id": "08b401b8",
   "metadata": {},
   "outputs": [
    {
     "data": {
      "text/plain": [
       "['']"
      ]
     },
     "execution_count": 14,
     "metadata": {},
     "output_type": "execute_result"
    }
   ],
   "source": [
    "p.stderr.decode(\"utf-8\").split(\"\\n\")"
   ]
  },
  {
   "cell_type": "code",
   "execution_count": null,
   "id": "ec1b90b6",
   "metadata": {},
   "outputs": [],
   "source": []
  }
 ],
 "metadata": {
  "kernelspec": {
   "display_name": "Python 3 (ipykernel)",
   "language": "python",
   "name": "python3"
  },
  "language_info": {
   "codemirror_mode": {
    "name": "ipython",
    "version": 3
   },
   "file_extension": ".py",
   "mimetype": "text/x-python",
   "name": "python",
   "nbconvert_exporter": "python",
   "pygments_lexer": "ipython3",
   "version": "3.10.10"
  }
 },
 "nbformat": 4,
 "nbformat_minor": 5
}
