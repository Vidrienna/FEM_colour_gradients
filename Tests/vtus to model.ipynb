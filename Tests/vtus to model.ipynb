{
 "cells": [
  {
   "cell_type": "code",
   "execution_count": 1,
   "id": "084c5a44",
   "metadata": {},
   "outputs": [],
   "source": [
    "import meshio\n",
    "import meshplot as mp\n",
    "import numpy as np"
   ]
  },
  {
   "cell_type": "code",
   "execution_count": 2,
   "id": "9d763ee7",
   "metadata": {},
   "outputs": [],
   "source": [
    "red = meshio.read(\"red.vtu\")\n",
    "green = meshio.read(\"green.vtu\")\n",
    "blue = meshio.read(\"blue.vtu\")\n",
    "\n",
    "face_list = red.cells_dict['triangle']"
   ]
  },
  {
   "cell_type": "code",
   "execution_count": 5,
   "id": "eedfb65f",
   "metadata": {},
   "outputs": [
    {
     "data": {
      "application/vnd.jupyter.widget-view+json": {
       "model_id": "45bbef556c7d4da3900adb8cd4ffc376",
       "version_major": 2,
       "version_minor": 0
      },
      "text/plain": [
       "Renderer(camera=PerspectiveCamera(children=(DirectionalLight(color='white', intensity=0.6, position=(5.0, 5.0,…"
      ]
     },
     "metadata": {},
     "output_type": "display_data"
    },
    {
     "data": {
      "text/plain": [
       "<meshplot.Viewer.Viewer at 0x1a673a9a290>"
      ]
     },
     "execution_count": 5,
     "metadata": {},
     "output_type": "execute_result"
    }
   ],
   "source": [
    "co = []\n",
    "for i in range(len(red.points)):\n",
    "    co.append([red.point_data['solution'][i][0], green.point_data['solution'][i][0], blue.point_data['solution'][i][0]])\n",
    "\n",
    "col = np.array(co)\n",
    "mp.plot(red.points, face_list, c=col, return_plot=True)"
   ]
  },
  {
   "cell_type": "code",
   "execution_count": null,
   "id": "a2a2b69d",
   "metadata": {},
   "outputs": [],
   "source": []
  },
  {
   "cell_type": "code",
   "execution_count": null,
   "id": "f05084f2",
   "metadata": {},
   "outputs": [],
   "source": []
  }
 ],
 "metadata": {
  "kernelspec": {
   "display_name": "Python 3 (ipykernel)",
   "language": "python",
   "name": "python3"
  },
  "language_info": {
   "codemirror_mode": {
    "name": "ipython",
    "version": 3
   },
   "file_extension": ".py",
   "mimetype": "text/x-python",
   "name": "python",
   "nbconvert_exporter": "python",
   "pygments_lexer": "ipython3",
   "version": "3.10.10"
  }
 },
 "nbformat": 4,
 "nbformat_minor": 5
}
